{
  "cells": [
    {
      "cell_type": "markdown",
      "metadata": {
        "id": "view-in-github",
        "colab_type": "text"
      },
      "source": [
        "<a href=\"https://colab.research.google.com/github/OgunmodedePeacePax/Brainwave_Matrix_Intern/blob/main/brainwave.ipynb\" target=\"_parent\"><img src=\"https://colab.research.google.com/assets/colab-badge.svg\" alt=\"Open In Colab\"/></a>"
      ]
    },
    {
      "cell_type": "code",
      "execution_count": null,
      "metadata": {
        "colab": {
          "base_uri": "https://localhost:8080/"
        },
        "id": "1PtcIWzTTvnK",
        "outputId": "6de171a4-0f90-41cb-e929-c42cdc979c73"
      },
      "outputs": [
        {
          "name": "stdout",
          "output_type": "stream",
          "text": [
            "   Unnamed: 0 trans_date_trans_time            cc_num  \\\n",
            "0           0   2020-06-21 12:14:25  2291163933867244   \n",
            "1           1   2020-06-21 12:14:33  3573030041201292   \n",
            "2           2   2020-06-21 12:14:53  3598215285024754   \n",
            "3           3   2020-06-21 12:15:15  3591919803438423   \n",
            "4           4   2020-06-21 12:15:17  3526826139003047   \n",
            "\n",
            "                               merchant        category    amt   first  \\\n",
            "0                 fraud_Kirlin and Sons   personal_care   2.86    Jeff   \n",
            "1                  fraud_Sporer-Keebler   personal_care  29.84  Joanne   \n",
            "2  fraud_Swaniawski, Nitzsche and Welch  health_fitness  41.28  Ashley   \n",
            "3                     fraud_Haley Group        misc_pos  60.05   Brian   \n",
            "4                 fraud_Johnston-Casper          travel   3.19  Nathan   \n",
            "\n",
            "       last gender                       street  ...      lat      long  \\\n",
            "0   Elliott      M            351 Darlene Green  ...  33.9659  -80.9355   \n",
            "1  Williams      F             3638 Marsh Union  ...  40.3207 -110.4360   \n",
            "2     Lopez      F         9333 Valentine Point  ...  40.6729  -73.5365   \n",
            "3  Williams      M  32941 Krystal Mill Apt. 552  ...  28.5697  -80.8191   \n",
            "4    Massey      M     5783 Evan Roads Apt. 465  ...  44.2529  -85.0170   \n",
            "\n",
            "   city_pop                     job         dob  \\\n",
            "0    333497     Mechanical engineer  1968-03-19   \n",
            "1       302  Sales professional, IT  1990-01-17   \n",
            "2     34496       Librarian, public  1970-10-21   \n",
            "3     54767            Set designer  1987-07-25   \n",
            "4      1126      Furniture designer  1955-07-06   \n",
            "\n",
            "                          trans_num   unix_time  merch_lat  merch_long  \\\n",
            "0  2da90c7d74bd46a0caf3777415b3ebd3  1371816865  33.986391  -81.200714   \n",
            "1  324cc204407e99f51b0d6ca0055005e7  1371816873  39.450498 -109.960431   \n",
            "2  c81755dbbbea9d5c77f094348a7579be  1371816893  40.495810  -74.196111   \n",
            "3  2159175b9efe66dc301f149d3d5abf8c  1371816915  28.812398  -80.883061   \n",
            "4  57ff021bd3f328f8738bb535c302a31b  1371816917  44.959148  -85.884734   \n",
            "\n",
            "   is_fraud  \n",
            "0         0  \n",
            "1         0  \n",
            "2         0  \n",
            "3         0  \n",
            "4         0  \n",
            "\n",
            "[5 rows x 23 columns]\n",
            "<class 'pandas.core.frame.DataFrame'>\n",
            "RangeIndex: 555719 entries, 0 to 555718\n",
            "Data columns (total 23 columns):\n",
            " #   Column                 Non-Null Count   Dtype  \n",
            "---  ------                 --------------   -----  \n",
            " 0   Unnamed: 0             555719 non-null  int64  \n",
            " 1   trans_date_trans_time  555719 non-null  object \n",
            " 2   cc_num                 555719 non-null  int64  \n",
            " 3   merchant               555719 non-null  object \n",
            " 4   category               555719 non-null  object \n",
            " 5   amt                    555719 non-null  float64\n",
            " 6   first                  555719 non-null  object \n",
            " 7   last                   555719 non-null  object \n",
            " 8   gender                 555719 non-null  object \n",
            " 9   street                 555719 non-null  object \n",
            " 10  city                   555719 non-null  object \n",
            " 11  state                  555719 non-null  object \n",
            " 12  zip                    555719 non-null  int64  \n",
            " 13  lat                    555719 non-null  float64\n",
            " 14  long                   555719 non-null  float64\n",
            " 15  city_pop               555719 non-null  int64  \n",
            " 16  job                    555719 non-null  object \n",
            " 17  dob                    555719 non-null  object \n",
            " 18  trans_num              555719 non-null  object \n",
            " 19  unix_time              555719 non-null  int64  \n",
            " 20  merch_lat              555719 non-null  float64\n",
            " 21  merch_long             555719 non-null  float64\n",
            " 22  is_fraud               555719 non-null  int64  \n",
            "dtypes: float64(5), int64(6), object(12)\n",
            "memory usage: 97.5+ MB\n",
            "None\n",
            "          Unnamed: 0        cc_num            amt            zip  \\\n",
            "count  555719.000000  5.557190e+05  555719.000000  555719.000000   \n",
            "mean   277859.000000  4.178387e+17      69.392810   48842.628015   \n",
            "std    160422.401459  1.309837e+18     156.745941   26855.283328   \n",
            "min         0.000000  6.041621e+10       1.000000    1257.000000   \n",
            "25%    138929.500000  1.800429e+14       9.630000   26292.000000   \n",
            "50%    277859.000000  3.521417e+15      47.290000   48174.000000   \n",
            "75%    416788.500000  4.635331e+15      83.010000   72011.000000   \n",
            "max    555718.000000  4.992346e+18   22768.110000   99921.000000   \n",
            "\n",
            "                 lat           long      city_pop     unix_time  \\\n",
            "count  555719.000000  555719.000000  5.557190e+05  5.557190e+05   \n",
            "mean       38.543253     -90.231325  8.822189e+04  1.380679e+09   \n",
            "std         5.061336      13.721780  3.003909e+05  5.201104e+06   \n",
            "min        20.027100    -165.672300  2.300000e+01  1.371817e+09   \n",
            "25%        34.668900     -96.798000  7.410000e+02  1.376029e+09   \n",
            "50%        39.371600     -87.476900  2.408000e+03  1.380762e+09   \n",
            "75%        41.894800     -80.175200  1.968500e+04  1.385867e+09   \n",
            "max        65.689900     -67.950300  2.906700e+06  1.388534e+09   \n",
            "\n",
            "           merch_lat     merch_long       is_fraud  \n",
            "count  555719.000000  555719.000000  555719.000000  \n",
            "mean       38.542798     -90.231380       0.003860  \n",
            "std         5.095829      13.733071       0.062008  \n",
            "min        19.027422    -166.671575       0.000000  \n",
            "25%        34.755302     -96.905129       0.000000  \n",
            "50%        39.376593     -87.445204       0.000000  \n",
            "75%        41.954163     -80.264637       0.000000  \n",
            "max        66.679297     -66.952026       1.000000  \n"
          ]
        }
      ],
      "source": [
        "import pandas as pd\n",
        "data = pd.read_csv('aa.csv')\n",
        "print(data.head())\n",
        "print(data.info())\n",
        "\n",
        "print(data.describe())\n"
      ]
    },
    {
      "cell_type": "code",
      "execution_count": null,
      "metadata": {
        "colab": {
          "base_uri": "https://localhost:8080/"
        },
        "id": "vmoKJn2MXYTs",
        "outputId": "8b87fc58-43c1-4b56-f8d2-fe00372b9881"
      },
      "outputs": [
        {
          "name": "stdout",
          "output_type": "stream",
          "text": [
            "Series([], dtype: int64)\n"
          ]
        }
      ],
      "source": [
        "missing_values = data.isnull().sum()\n",
        "print(missing_values[missing_values > 0])\n"
      ]
    },
    {
      "cell_type": "code",
      "execution_count": null,
      "metadata": {
        "colab": {
          "base_uri": "https://localhost:8080/"
        },
        "id": "FcmA-WHoX6N1",
        "outputId": "fe595145-448f-4013-d5cb-f0259fcc243a"
      },
      "outputs": [
        {
          "name": "stdout",
          "output_type": "stream",
          "text": [
            "Index(['Unnamed: 0', 'cc_num', 'merchant', 'category', 'amt', 'first', 'last',\n",
            "       'gender', 'street', 'city', 'state', 'zip', 'lat', 'long', 'city_pop',\n",
            "       'job', 'dob', 'trans_num', 'unix_time', 'merch_lat', 'merch_long',\n",
            "       'is_fraud', 'transaction_hour', 'transaction_day', 'transaction_month'],\n",
            "      dtype='object')\n",
            "  (0, 0)\t-0.42446311221806937\n",
            "  (0, 1)\t-0.9043771740881724\n",
            "  (0, 2)\t0.6774510021991142\n",
            "  (0, 3)\t0.8165205378963228\n",
            "  (0, 4)\t-0.8941451215288134\n",
            "  (0, 5)\t0.6575859677205167\n",
            "  (0, 6)\t-0.11878895734708103\n",
            "  (0, 7)\t0.5065262988065559\n",
            "  (0, 8)\t-1.7735969317585956\n",
            "  (0, 328)\t1.0\n",
            "  (0, 712)\t1.0\n",
            "  (0, 717)\t1.0\n",
            "  (0, 875)\t1.0\n",
            "  (0, 1842)\t1.0\n",
            "  (1, 0)\t-0.2523372884703769\n",
            "  (1, 1)\t0.3511817243109503\n",
            "  (1, 2)\t-1.4724542640887257\n",
            "  (1, 3)\t-0.2926851956784882\n",
            "  (1, 4)\t0.17812626589640143\n",
            "  (1, 5)\t-1.436610108574763\n",
            "  (1, 6)\t-0.11878895734708103\n",
            "  (1, 7)\t0.5065262988065559\n",
            "  (1, 8)\t-1.7735969317585956\n",
            "  (1, 600)\t1.0\n",
            "  (1, 712)\t1.0\n",
            "  :\t:\n",
            "  (3, 3)\t-0.11137127956584522\n",
            "  (3, 4)\t-1.9094848014871928\n",
            "  (3, 5)\t0.6807165036094283\n",
            "  (3, 6)\t-0.11878895734708103\n",
            "  (3, 7)\t0.5065262988065559\n",
            "  (3, 8)\t-1.7735969317585956\n",
            "  (3, 231)\t1.0\n",
            "  (3, 711)\t1.0\n",
            "  (3, 717)\t1.0\n",
            "  (3, 1482)\t1.0\n",
            "  (3, 1974)\t1.0\n",
            "  (4, 0)\t-0.4223577926540687\n",
            "  (4, 1)\t1.1280918867527299\n",
            "  (4, 2)\t0.38000389640925203\n",
            "  (4, 3)\t-0.2899421007206838\n",
            "  (4, 4)\t1.2591387311244615\n",
            "  (4, 5)\t0.316509721897632\n",
            "  (4, 6)\t-0.11878895734708103\n",
            "  (4, 7)\t0.5065262988065559\n",
            "  (4, 8)\t-1.7735969317585956\n",
            "  (4, 301)\t1.0\n",
            "  (4, 715)\t1.0\n",
            "  (4, 717)\t1.0\n",
            "  (4, 965)\t1.0\n",
            "  (4, 1763)\t1.0\n"
          ]
        }
      ],
      "source": [
        "print(data.columns)\n",
        "\n",
        "categorical_columns = ['merchant', 'category', 'gender', 'city', 'job']\n",
        "\n",
        "preprocessor = ColumnTransformer(\n",
        "    transformers=[\n",
        "        ('num', StandardScaler(), ['amt', 'lat', 'long', 'city_pop', 'merch_lat', 'merch_long', 'transaction_hour', 'transaction_day', 'transaction_month']),\n",
        "        ('cat', OneHotEncoder(), categorical_columns)\n",
        "    ])\n",
        "\n",
        "X = data.drop(columns=irrelevant_columns + ['is_fraud'], axis=1)\n",
        "X_processed = preprocessor.fit_transform(X)\n",
        "\n",
        "y = data['is_fraud']\n",
        "\n",
        "print(X_processed[:5])\n"
      ]
    },
    {
      "cell_type": "code",
      "execution_count": null,
      "metadata": {
        "colab": {
          "base_uri": "https://localhost:8080/"
        },
        "id": "EQSA73q3YAFX",
        "outputId": "8ef52710-3a7d-4860-ffe1-7605597ced00"
      },
      "outputs": [
        {
          "name": "stdout",
          "output_type": "stream",
          "text": [
            "              precision    recall  f1-score   support\n",
            "\n",
            "           0       1.00      1.00      1.00    110718\n",
            "           1       0.98      0.56      0.71       426\n",
            "\n",
            "    accuracy                           1.00    111144\n",
            "   macro avg       0.99      0.78      0.86    111144\n",
            "weighted avg       1.00      1.00      1.00    111144\n",
            "\n"
          ]
        }
      ],
      "source": [
        "from sklearn.model_selection import train_test_split\n",
        "from sklearn.ensemble import RandomForestClassifier\n",
        "from sklearn.metrics import classification_report\n",
        "\n",
        "X_train, X_test, y_train, y_test = train_test_split(X_processed, y, test_size=0.2, random_state=42)\n",
        "\n",
        "model = RandomForestClassifier()\n",
        "model.fit(X_train, y_train)\n",
        "\n",
        "y_pred = model.predict(X_test)\n",
        "\n",
        "print(classification_report(y_test, y_pred))\n"
      ]
    }
  ],
  "metadata": {
    "colab": {
      "provenance": [],
      "authorship_tag": "ABX9TyNxbMyZbisTQb4rAh8LVJd8",
      "include_colab_link": true
    },
    "kernelspec": {
      "display_name": "Python 3",
      "name": "python3"
    },
    "language_info": {
      "name": "python"
    }
  },
  "nbformat": 4,
  "nbformat_minor": 0
}